{
 "cells": [
  {
   "cell_type": "code",
   "execution_count": 1,
   "id": "5c3472e3",
   "metadata": {},
   "outputs": [],
   "source": [
    "import sys"
   ]
  },
  {
   "cell_type": "code",
   "execution_count": 2,
   "id": "67425165",
   "metadata": {},
   "outputs": [
    {
     "ename": "IndexError",
     "evalue": "list index out of range",
     "output_type": "error",
     "traceback": [
      "\u001b[0;31m---------------------------------------------------------------------------\u001b[0m",
      "\u001b[0;31mIndexError\u001b[0m                                Traceback (most recent call last)",
      "Cell \u001b[0;32mIn[2], line 33\u001b[0m\n\u001b[1;32m     30\u001b[0m \u001b[38;5;28;01mfor\u001b[39;00m line \u001b[38;5;129;01min\u001b[39;00m sys\u001b[38;5;241m.\u001b[39mstdin:\n\u001b[1;32m     31\u001b[0m     inp_array\u001b[38;5;241m.\u001b[39mappend(line)\n\u001b[0;32m---> 33\u001b[0m rates\u001b[38;5;241m=\u001b[39m\u001b[43minp_array\u001b[49m\u001b[43m[\u001b[49m\u001b[38;5;241;43m0\u001b[39;49m\u001b[43m]\u001b[49m\u001b[38;5;241m.\u001b[39msplit(\u001b[38;5;124m\"\u001b[39m\u001b[38;5;124m;\u001b[39m\u001b[38;5;124m\"\u001b[39m)\n\u001b[1;32m     34\u001b[0m rates\u001b[38;5;241m=\u001b[39m[ele\u001b[38;5;241m.\u001b[39msplit(\u001b[38;5;124m\"\u001b[39m\u001b[38;5;124m,\u001b[39m\u001b[38;5;124m\"\u001b[39m) \u001b[38;5;28;01mfor\u001b[39;00m ele \u001b[38;5;129;01min\u001b[39;00m rates]\n\u001b[1;32m     35\u001b[0m selected_currency\u001b[38;5;241m=\u001b[39minp_array[\u001b[38;5;241m1\u001b[39m]\n",
      "\u001b[0;31mIndexError\u001b[0m: list index out of range"
     ]
    }
   ],
   "source": [
    "# import sys\n",
    "def calculate_max_target_value(rates, selected_currency, target_currency):\n",
    "    graph = {}\n",
    "    for rate in rates:\n",
    "        from_curr, to_curr, value = rate\n",
    "        if from_curr not in graph:\n",
    "            graph[from_curr] = {}\n",
    "        graph[from_curr][to_curr] = float(value)\n",
    "\n",
    "    def dfs(curr, amount):\n",
    "        nonlocal max_amount\n",
    "        if curr == target_currency:\n",
    "            max_amount = max(max_amount, amount)\n",
    "            return\n",
    "        if curr in visited:\n",
    "            return\n",
    "        visited.add(curr)\n",
    "        if curr in graph:\n",
    "            for neighbor, value in graph[curr].items():\n",
    "                dfs(neighbor, amount * value)\n",
    "        visited.remove(curr)\n",
    "\n",
    "    max_amount = -1.0\n",
    "    visited = set()\n",
    "    dfs(selected_currency, 1.0)\n",
    "\n",
    "    return max_amount\n",
    "\n",
    "inp_array = []\n",
    "for line in sys.stdin:\n",
    "    inp_array.append(line)\n",
    "    \n",
    "rates=inp_array[0].split(\";\")\n",
    "rates=[ele.split(\",\") for ele in rates]\n",
    "selected_currency=inp_array[1]\n",
    "target_currency=inp_array[2]\n",
    "\n",
    "\n",
    "    \n",
    "result = calculate_max_target_value(rates, selected_currency, target_currency)\n",
    "print(result)"
   ]
  }
 ],
 "metadata": {
  "kernelspec": {
   "display_name": "Python 3 (ipykernel)",
   "language": "python",
   "name": "python3"
  },
  "language_info": {
   "codemirror_mode": {
    "name": "ipython",
    "version": 3
   },
   "file_extension": ".py",
   "mimetype": "text/x-python",
   "name": "python",
   "nbconvert_exporter": "python",
   "pygments_lexer": "ipython3",
   "version": "3.11.4"
  }
 },
 "nbformat": 4,
 "nbformat_minor": 5
}
